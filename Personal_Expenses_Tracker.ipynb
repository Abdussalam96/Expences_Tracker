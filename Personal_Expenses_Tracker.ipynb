{
 "cells": [
  {
   "cell_type": "markdown",
   "id": "b3013983-dfd1-4e83-9b4e-20708a793b8b",
   "metadata": {},
   "source": [
    "# Personal Expenses Tracker"
   ]
  },
  {
   "cell_type": "markdown",
   "id": "e01d04ad-85e0-40f3-b170-1d7ebf15b134",
   "metadata": {},
   "source": [
    "## What are we tracking????"
   ]
  },
  {
   "cell_type": "markdown",
   "id": "e301320f-0332-4e4c-bdd2-15ec2d6791d2",
   "metadata": {},
   "source": [
    "### Create Variables"
   ]
  },
  {
   "cell_type": "code",
   "execution_count": 1,
   "id": "a8d5ab2f-9aae-4621-b8ef-3e40006cc93a",
   "metadata": {},
   "outputs": [],
   "source": [
    "user = \"Abdussalam\" # str\n",
    "current_month = \"August 2025\" # str\n",
    "currency = \"$\" # str\n",
    "budget = 500.00 # float\n",
    "num_days_in_month = 31 # int\n",
    "is_budget_set = True # Boolean\n"
   ]
  },
  {
   "cell_type": "code",
   "execution_count": 2,
   "id": "3182b8c1-f180-434a-8eb8-302678aa671f",
   "metadata": {},
   "outputs": [
    {
     "name": "stdout",
     "output_type": "stream",
     "text": [
      "Hello Abdussalam\n"
     ]
    }
   ],
   "source": [
    "print(\"Hello\", user)"
   ]
  },
  {
   "cell_type": "code",
   "execution_count": 3,
   "id": "30e28910-b1a0-4a59-924e-09bdc081fa6b",
   "metadata": {},
   "outputs": [
    {
     "name": "stdout",
     "output_type": "stream",
     "text": [
      "Budget for August 2025 : 500.0\n"
     ]
    }
   ],
   "source": [
    "print(\"Budget for\", current_month, \":\", budget)"
   ]
  },
  {
   "cell_type": "markdown",
   "id": "a0699bea-0025-405b-a740-ed6490ef77ad",
   "metadata": {},
   "source": [
    "### A single expense"
   ]
  },
  {
   "cell_type": "code",
   "execution_count": 4,
   "id": "2d353e38-0990-4ed4-8160-611310794ec9",
   "metadata": {},
   "outputs": [],
   "source": [
    "item = \"Rent\"\n",
    "amount = 200.00\n",
    "category = \"Housing\"\n",
    "is_necessary = True"
   ]
  },
  {
   "cell_type": "code",
   "execution_count": null,
   "id": "ffd01ff7-2612-4fb8-b8c6-8a654d4daaf8",
   "metadata": {},
   "outputs": [],
   "source": []
  },
  {
   "cell_type": "code",
   "execution_count": 24,
   "id": "463406cf-1d75-4400-ad7b-409afdf36ded",
   "metadata": {},
   "outputs": [],
   "source": [
    "closing_balance = budget - amount\n",
    "closing_balance"
   ]
  },
  {
   "cell_type": "code",
   "execution_count": 25,
   "id": "d7bd141c-cb03-4af2-8276-997aa0316634",
   "metadata": {},
   "outputs": [
    {
     "data": {
      "text/plain": [
       "300.0"
      ]
     },
     "execution_count": 25,
     "metadata": {},
     "output_type": "execute_result"
    }
   ],
   "source": []
  },
  {
   "cell_type": "code",
   "execution_count": null,
   "id": "cabc8901-0595-4323-b0e1-5ad9d7e1d3b7",
   "metadata": {},
   "outputs": [],
   "source": [
    "item = 'Rent'"
   ]
  },
  {
   "cell_type": "code",
   "execution_count": 46,
   "id": "fb1a348a-4b51-4caa-b229-0cae7d4f3f75",
   "metadata": {},
   "outputs": [],
   "source": [
    "items = ['Rent', 'Electricity', 'Clothes', 'Data bundle', 'KFC', 'Netflix',]\n",
    "prices = [200.00, 40.00, 50.00, 20, 10, 15]\n",
    "categories = ['Housing', 'Utility', 'Basic', 'Utility' 'Food', 'Entertainment']\n",
    "necessary = [ True, True, True, True, False, False]"
   ]
  },
  {
   "cell_type": "code",
   "execution_count": 50,
   "id": "308a3d98-7e98-448d-8a9f-9ed89b5b67c4",
   "metadata": {},
   "outputs": [
    {
     "data": {
      "text/plain": [
       "[200.0, 40.0, 50.0, 20, 10, 15]"
      ]
     },
     "execution_count": 50,
     "metadata": {},
     "output_type": "execute_result"
    }
   ],
   "source": [
    "prices"
   ]
  },
  {
   "cell_type": "code",
   "execution_count": 51,
   "id": "be4ac7d5-5917-413b-88fe-6de6ee78997c",
   "metadata": {},
   "outputs": [
    {
     "data": {
      "text/plain": [
       "335.0"
      ]
     },
     "execution_count": 51,
     "metadata": {},
     "output_type": "execute_result"
    }
   ],
   "source": [
    "prices[0] + prices[1] + prices[2] + prices[3] + prices[4] + prices[5]"
   ]
  },
  {
   "cell_type": "code",
   "execution_count": 55,
   "id": "0c836ab1-6060-4226-996a-fa6fdc8d6595",
   "metadata": {},
   "outputs": [
    {
     "data": {
      "text/plain": [
       "335.0"
      ]
     },
     "execution_count": 55,
     "metadata": {},
     "output_type": "execute_result"
    }
   ],
   "source": [
    "total_expences = sum(prices)"
   ]
  },
  {
   "cell_type": "code",
   "execution_count": 57,
   "id": "ec56605e-9567-40eb-b140-e1fda639512e",
   "metadata": {},
   "outputs": [
    {
     "data": {
      "text/plain": [
       "165.0"
      ]
     },
     "execution_count": 57,
     "metadata": {},
     "output_type": "execute_result"
    }
   ],
   "source": [
    "balance = budget - total_expenses\n",
    "balance"
   ]
  },
  {
   "cell_type": "code",
   "execution_count": 62,
   "id": "ba9ca221-b34a-4479-93a1-8ed2eaa4aa2b",
   "metadata": {},
   "outputs": [],
   "source": [
    "num_of_items = len(items)"
   ]
  },
  {
   "cell_type": "code",
   "execution_count": null,
   "id": "25dfbbf1-6a37-4743-97d0-6523df2ee8ca",
   "metadata": {},
   "outputs": [],
   "source": []
  },
  {
   "cell_type": "code",
   "execution_count": null,
   "id": "4da2f63b-2339-4cae-9605-e5f7c62ce45a",
   "metadata": {},
   "outputs": [],
   "source": []
  },
  {
   "cell_type": "code",
   "execution_count": null,
   "id": "43cf1b3f-0e27-44e1-b0a4-0276e9acf883",
   "metadata": {},
   "outputs": [],
   "source": []
  },
  {
   "cell_type": "code",
   "execution_count": 66,
   "id": "a72b7256-42bf-4ac0-adab-93881bd8893f",
   "metadata": {},
   "outputs": [
    {
     "name": "stdout",
     "output_type": "stream",
     "text": [
      "===================================\n",
      "        Expenses Tracker\n",
      "===================================\n",
      "Owner                  Abdussalam\n",
      "Period                 August 2025\n",
      "-----------------------------------\n",
      "Currency               $\n",
      "Starting Balance       500.0\n",
      "Total Expences         335.0\n",
      "-----------------------------------\n",
      "Closing Balance        165.0\n",
      "Transactions           6\n",
      "===================================\n",
      "       See you next month\n",
      "===================================\n"
     ]
    }
   ],
   "source": [
    "print(\"=\" * 35)\n",
    "print(\"        Expenses Tracker\")\n",
    "print(\"=\" * 35)\n",
    "print(\"Owner\",'                ',user)\n",
    "print(\"Period\",'               ',current_month)\n",
    "print('-' * 35)\n",
    "print(\"Currency\",'             ',currency)\n",
    "print(\"Starting Balance\",'     ',budget)\n",
    "print(\"Total Expences\",'       ',total_expenses)\n",
    "print('-' * 35)\n",
    "print(\"Closing Balance\",'      ',balance)\n",
    "print(\"Transactions\",'         ',num_of_items)\n",
    "print('=' * 35)\n",
    "print(\"       See you next month\")\n",
    "print(\"=\" * 35)"
   ]
  },
  {
   "cell_type": "code",
   "execution_count": null,
   "id": "7d0dbb1b-95de-44c1-9ca5-7e79f2931a53",
   "metadata": {},
   "outputs": [],
   "source": []
  },
  {
   "cell_type": "code",
   "execution_count": null,
   "id": "c3e4391d-0e77-4a5e-bed5-01883ae81733",
   "metadata": {},
   "outputs": [],
   "source": []
  },
  {
   "cell_type": "code",
   "execution_count": null,
   "id": "270a484f-72c2-4f2d-9457-e7a623e84ace",
   "metadata": {},
   "outputs": [],
   "source": []
  },
  {
   "cell_type": "code",
   "execution_count": null,
   "id": "ed00670d-3bbf-4c8c-b2ba-2ea870b9973e",
   "metadata": {},
   "outputs": [],
   "source": []
  }
 ],
 "metadata": {
  "kernelspec": {
   "display_name": "Python 3 (ipykernel)",
   "language": "python",
   "name": "python3"
  },
  "language_info": {
   "codemirror_mode": {
    "name": "ipython",
    "version": 3
   },
   "file_extension": ".py",
   "mimetype": "text/x-python",
   "name": "python",
   "nbconvert_exporter": "python",
   "pygments_lexer": "ipython3",
   "version": "3.12.7"
  }
 },
 "nbformat": 4,
 "nbformat_minor": 5
}
